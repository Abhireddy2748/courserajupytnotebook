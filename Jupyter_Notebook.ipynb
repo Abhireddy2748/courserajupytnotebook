{
 "cells": [
  {
   "cell_type": "markdown",
   "metadata": {},
   "source": [
    "<center>\n",
    "    <img src=\"https://cf-courses-data.s3.us.cloud-object-storage.appdomain.cloud/IBMDeveloperSkillsNetwork-DS0105EN-SkillsNetwork/labs/Module2/images/SN_web_lightmode.png\" width=\"300\" alt=\"cognitiveclass.ai logo\">\n",
    "</center>\n"
   ]
  },
  {
   "cell_type": "markdown",
   "metadata": {},
   "source": [
    "#### Add your code below following the instructions given in the course\n"
   ]
  },
  {
   "cell_type": "markdown",
   "metadata": {},
   "source": [
    "# My Jupyter Notebook on IBM Watson Studio"
   ]
  },
  {
   "cell_type": "markdown",
   "metadata": {},
   "source": [
    "**G Abhishek Reddy**\n",
    "I am currently a 4th year ECE Student from Banglore"
   ]
  },
  {
   "cell_type": "markdown",
   "metadata": {},
   "source": [
    "*I like Data Science because*\n",
    "*1. I like exprementing with data.*\n",
    "*2. Its basically higher level application of Mathematics.*\n",
    "*3. And We dont have to worry much about coding in data science*"
   ]
  },
  {
   "cell_type": "markdown",
   "metadata": {},
   "source": [
    "### My code in next cell will print a statement that I am Happy I took this course."
   ]
  },
  {
   "cell_type": "code",
   "execution_count": 2,
   "metadata": {},
   "outputs": [
    {
     "name": "stdout",
     "output_type": "stream",
     "text": [
      "I am Happy I took this course\n"
     ]
    }
   ],
   "source": [
    "print(\"I am Happy I took this course\")"
   ]
  },
  {
   "cell_type": "markdown",
   "metadata": {},
   "source": [
    "Operation | Numbers | results\n",
    "_____________________________\n",
    "Add | 2,1 | 3\n",
    "____________________________\n",
    "Sub | 2,1 | 1\n",
    "_____________________________\n",
    "\n",
    "Here is a small <a ref=\"https://en.wikipedia.org/wiki/Operation_(mathematics)\">link</a> to learn more about Operations in Mathematics."
   ]
  },
  {
   "cell_type": "code",
   "execution_count": null,
   "metadata": {},
   "outputs": [],
   "source": []
  }
 ],
 "metadata": {
  "kernelspec": {
   "display_name": "Python 3 (ipykernel)",
   "language": "python",
   "name": "python3"
  },
  "language_info": {
   "codemirror_mode": {
    "name": "ipython",
    "version": 3
   },
   "file_extension": ".py",
   "mimetype": "text/x-python",
   "name": "python",
   "nbconvert_exporter": "python",
   "pygments_lexer": "ipython3",
   "version": "3.9.1"
  }
 },
 "nbformat": 4,
 "nbformat_minor": 4
}
